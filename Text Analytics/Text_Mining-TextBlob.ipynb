{
 "cells": [
  {
   "cell_type": "code",
   "execution_count": 1,
   "metadata": {},
   "outputs": [],
   "source": [
    "import nltk"
   ]
  },
  {
   "cell_type": "code",
   "execution_count": 2,
   "metadata": {},
   "outputs": [],
   "source": [
    "from textblob import TextBlob"
   ]
  },
  {
   "cell_type": "code",
   "execution_count": 3,
   "metadata": {},
   "outputs": [],
   "source": [
    "test_sent = TextBlob(\"The course is not that tough and is related to our careers but the instructor makes it very difficult for us to comprehend and understand the course. The instructor should be changed, the course should remain.\")"
   ]
  },
  {
   "cell_type": "code",
   "execution_count": 4,
   "metadata": {},
   "outputs": [
    {
     "data": {
      "text/plain": [
       "[Sentence(\"The course is not that tough and is related to our careers but the instructor makes it very difficult for us to comprehend and understand the course.\"),\n",
       " Sentence(\"The instructor should be changed, the course should remain.\")]"
      ]
     },
     "execution_count": 4,
     "metadata": {},
     "output_type": "execute_result"
    }
   ],
   "source": [
    "test_sent.sentences                                                                                  #Break Sentence                                                                     "
   ]
  },
  {
   "cell_type": "code",
   "execution_count": null,
   "metadata": {},
   "outputs": [],
   "source": [
    "for words in test_sent.sentences[0].words:                                                          #printing words of first sentence --> Tokenization\n",
    "    print (words)"
   ]
  },
  {
   "cell_type": "code",
   "execution_count": null,
   "metadata": {},
   "outputs": [],
   "source": [
    "for words, tag in test_sent.tags:                                                                   #printing every word coresponding tag --> Parts-of-speech tagging\n",
    "    print (words, tag)"
   ]
  },
  {
   "cell_type": "code",
   "execution_count": 7,
   "metadata": {},
   "outputs": [
    {
     "name": "stdout",
     "output_type": "stream",
     "text": [
      "I like the movie but it was a bit lengthy.\n"
     ]
    }
   ],
   "source": [
    "sample = TextBlob('I lke the movie but it was a bit lngthy.')                                      \n",
    "sample = sample.correct()                                                                            #correct spelling\n",
    "print(sample)"
   ]
  },
  {
   "cell_type": "code",
   "execution_count": null,
   "metadata": {},
   "outputs": [],
   "source": [
    "sample = TextBlob('I lke the movie but it was a bt lengthy.')\n",
    "sample.words[8].spellcheck()                                                                        #probability of checking correctness of spelling"
   ]
  },
  {
   "cell_type": "code",
   "execution_count": 9,
   "metadata": {},
   "outputs": [
    {
     "name": "stdout",
     "output_type": "stream",
     "text": [
      "I like the movie but it was a it lengthy.\n"
     ]
    }
   ],
   "source": [
    "sample = sample.correct()                                                                            #replace the word bit with it as it had highest probablity\n",
    "print(sample)"
   ]
  },
  {
   "cell_type": "code",
   "execution_count": 10,
   "metadata": {},
   "outputs": [
    {
     "name": "stdout",
     "output_type": "stream",
     "text": [
      "['The', 'course', 'is', 'not', 'that', 'tough', 'and', 'is', 'related', 'to', 'our', 'career', 'but', 'the', 'instructor', 'make', 'it', 'very', 'difficult', 'for', 'u', 'to', 'comprehend', 'and', 'understand', 'the', 'course', 'The', 'instructor', 'should', 'be', 'changed', 'the', 'course', 'should', 'remain']\n"
     ]
    }
   ],
   "source": [
    "lemmatizedWords = list()\n",
    "for word, tag in test_sent.tags:\n",
    "    lemmatizedWords.append(word.lemmatize())                                                         #Lemmatization of all words\n",
    "print(lemmatizedWords)"
   ]
  },
  {
   "cell_type": "code",
   "execution_count": 11,
   "metadata": {},
   "outputs": [
    {
     "name": "stdout",
     "output_type": "stream",
     "text": [
      "course\n",
      "instructor\n",
      "course\n",
      "instructor\n",
      "course\n",
      "['course', 'instructor']\n"
     ]
    }
   ],
   "source": [
    "nouns = list()\n",
    "for word, tag in test_sent.tags:\n",
    "    if tag == 'NN':  \n",
    "        print(word)                                                                                     #Print nouns\n",
    "        if (word not in nouns):                                                                         #Lemmatize each word once only                                                                            \n",
    "            nouns.append(word.lemmatize())                                                              #Lemmatize only nouns\n",
    "print(nouns)"
   ]
  },
  {
   "cell_type": "code",
   "execution_count": 12,
   "metadata": {},
   "outputs": [],
   "source": [
    "import random"
   ]
  },
  {
   "cell_type": "code",
   "execution_count": 13,
   "metadata": {},
   "outputs": [
    {
     "name": "stdout",
     "output_type": "stream",
     "text": [
      "This text is about...\n",
      "course\n",
      "instructor\n",
      "be\n",
      "career\n",
      "remain\n"
     ]
    }
   ],
   "source": [
    "print (\"This text is about...\")\n",
    "for item in random.sample(lemmatizedWords, 5):                                                          #summary\n",
    "    print (item)"
   ]
  },
  {
   "cell_type": "code",
   "execution_count": 39,
   "metadata": {},
   "outputs": [],
   "source": [
    "dawn_article = '''\n",
    "IMAGINE an emergency room packed to the brim with patients in need of immediate medical attention. There are gunshot victims bleeding out on the floor, there are people with broken bones and asthmatics gasping for breath waiting in line. Now imagine that the doctor on duty ignores all these patients, and instead, decides to treat a hypochondriac for a runny nose. What sort of action would we demand be taken against such a doctor?\n",
    "\n",
    "Now hear this: there is a museum in Lahore called, unimaginatively enough, the Lahore Museum. Outside this museum was a rather demonic looking and frankly ugly 20-foot-tall statue. This drew the ire of an individual who felt that this “sculpture of Satan” was frightening children and also had “nothing to do with our culture”. Not content with ranting on Facebook like the rest of us, she went and filed a petition in the Lahore High Court.\n",
    "\n",
    "This petition was taken up by a high court bench which issued notices to the Punjab chief secretary and the Lahore Museum director, and the petitioner was even thanked for her efforts by the learned judge.\n",
    "\n",
    "The petition was entertained even though there are a trifling 1.8 million cases pending in Pakistan’s courts (8,539 cases pending with the Supreme Court, 293,947 with the five high courts and 1,869,886 cases with the subordinate judiciary of the four provinces and the federal capital) and it is surprising that instead of reducing the case load pending in courts, notices were issued on a frivolous petition regarding a questionably artistic statue. Ironically enough, the high court issued these notices on the same day that Chief Justice Asif Khosa took oath with a pledge to build “a dam against undue and unnecessary delays in judicial determination of cases, a dam against frivolous litigation and a dam against fake witnesses and false testimonies”.\n",
    "\n",
    "To be fair, some infamous ‘serial petitioners’ have been fined and even barred from court premises but damming this flood of frivolity will be no easy task.\n",
    "\n",
    "And there are other challenges as well: consider that for close to a month lawyers have been on strike in the local courts of Islamabad, calling for the rotation of lower court judges but also protesting against the demolishing of the illegal chambers they had built in front of the courtroom.\n",
    "\n",
    "Incensed by the demolition, they had the audacity to blockade 20 judges in their courtrooms, effectively holding them hostage. But now I’m pleased to report that the lawyers have relented and will only observe a strike every Tuesday and Friday. This means that lucky litigants may just get their cases heard three days a week.\n",
    "\n",
    "This conduct — and the fact that no action was taken against these miscreants — exemplifies the judicial drift that began with chief justice Iftikhar Chaudhry and reached what we hope is its zenith during the term of Saqib Nisar. Overly fond of well-planned and widely telecast ‘surprise’ raids, the former chief justice was often criticised (albeit carefully for fear of inviting contempt charges) for his seeming unwillingness to treat his own fraternity the way he would treat, say, doctors at a hospital he raided.\n",
    "\n",
    "Perhaps it was in response to this that he showed up at a Larkana court, slamming a judge’s mobile phone on the desk in a very public display of anger. But this too, like so much else, was just sound and fury — a made-for-TV presentation that lasted as long as the average news ticker does.\n",
    "\n",
    "Can any chief justice afford to bell this particularly vicious cat? Justice Khosa certainly does seem to understand the magnitude of the task he is faced with, and has commented that in the case of the Islamabad strikes, “It is the lawyers that have stopped working; judges [in the district sessions courts of Islamabad] are sitting there waiting for people to come to them so that they dispense justice”.\n",
    "\n",
    "But while a month-long strike will certainly attract attention, the fact is that courts are frequently suspended simply due to the death of a lawyer or judge. In a country where justice is a scarce commodity, where litigants sometimes wait decades for the resolution of a simple case, this is nothing short of criminal neglect.\n",
    "\n",
    "The courts must be treated as nothing less than an essential service and if the former chief justice could rage against doctors going on strike, certainly he could have spared a word or two for lawyers doing the same whenever the fancy takes them.\n",
    "\n",
    "It has been an unfortunate hallmark of Pakistani polity that we, whether as individuals or institutions, have an aversion to setting our own house in order before poking around in the neighbours’ yard. Or perhaps we do so because we are unable to set our own house in order. One hopes the incoming chief justice will buck this trend.\n",
    "'''\n",
    "dawn_txt_blob = TextBlob(dawn_article)"
   ]
  },
  {
   "cell_type": "code",
   "execution_count": 42,
   "metadata": {},
   "outputs": [
    {
     "name": "stdout",
     "output_type": "stream",
     "text": [
      "emergency\n",
      "room\n",
      "brim\n",
      "need\n",
      "attention\n",
      "floor\n",
      "breath\n",
      "line\n",
      "doctor\n",
      "duty\n",
      "hypochondriac\n",
      "runny\n",
      "nose\n",
      "sort\n",
      "action\n",
      "doctor\n",
      "museum\n",
      "museum\n",
      "statue\n",
      "ire\n",
      "individual\n",
      "sculpture\n",
      "nothing\n",
      "culture\n",
      "”\n",
      "rest\n",
      "petition\n",
      "petition\n",
      "court\n",
      "bench\n",
      "chief\n",
      "secretary\n",
      "director\n",
      "petitioner\n",
      "judge\n",
      "petition\n",
      "s\n",
      "judiciary\n",
      "capital\n",
      "case\n",
      "load\n",
      "petition\n",
      "statue\n",
      "court\n",
      "day\n",
      "pledge\n",
      "dam\n",
      "determination\n",
      "dam\n",
      "litigation\n",
      "dam\n",
      "court\n",
      "flood\n",
      "frivolity\n",
      "task\n",
      "well\n",
      "consider\n",
      "month\n",
      "strike\n",
      "rotation\n",
      "court\n",
      "demolishing\n",
      "front\n",
      "courtroom\n",
      "demolition\n",
      "audacity\n",
      "hostage\n",
      "strike\n",
      "week\n",
      "conduct\n",
      "—\n",
      "fact\n",
      "action\n",
      "drift\n",
      "justice\n",
      "zenith\n",
      "term\n",
      "fond\n",
      "surprise\n",
      "chief\n",
      "justice\n",
      "fear\n",
      "contempt\n",
      "fraternity\n",
      "way\n",
      "hospital\n",
      "response\n",
      "court\n",
      "judge\n",
      "s\n",
      "mobile\n",
      "phone\n",
      "desk\n",
      "display\n",
      "anger\n",
      "fury\n",
      "presentation\n",
      "news\n",
      "ticker\n",
      "justice\n",
      "afford\n",
      "cat\n",
      "magnitude\n",
      "task\n",
      "case\n",
      "district\n",
      "justice\n",
      "”\n",
      "strike\n",
      "attention\n",
      "fact\n",
      "death\n",
      "lawyer\n",
      "judge\n",
      "country\n",
      "justice\n",
      "commodity\n",
      "resolution\n",
      "case\n",
      "nothing\n",
      "neglect\n",
      "nothing\n",
      "service\n",
      "chief\n",
      "justice\n",
      "strike\n",
      "word\n",
      "fancy\n",
      "hallmark\n",
      "polity\n",
      "aversion\n",
      "house\n",
      "order\n",
      "yard\n",
      "house\n",
      "order\n",
      "incoming\n",
      "justice\n",
      "trend\n",
      "['emergency', 'room', 'brim', 'need', 'attention', 'floor', 'breath', 'line', 'doctor', 'duty', 'hypochondriac', 'runny', 'nose', 'sort', 'action', 'museum', 'statue', 'ire', 'individual', 'sculpture', 'nothing', 'culture', '”', 'rest', 'petition', 'court', 'bench', 'chief', 'secretary', 'director', 'petitioner', 'judge', 's', 'judiciary', 'capital', 'case', 'load', 'day', 'pledge', 'dam', 'determination', 'litigation', 'flood', 'frivolity', 'task', 'well', 'consider', 'month', 'strike', 'rotation', 'demolishing', 'front', 'courtroom', 'demolition', 'audacity', 'hostage', 'week', 'conduct', '—', 'fact', 'drift', 'justice', 'zenith', 'term', 'fond', 'surprise', 'fear', 'contempt', 'fraternity', 'way', 'hospital', 'response', 'mobile', 'phone', 'desk', 'display', 'anger', 'fury', 'presentation', 'news', 'ticker', 'afford', 'cat', 'magnitude', 'district', 'death', 'lawyer', 'country', 'commodity', 'resolution', 'neglect', 'service', 'word', 'fancy', 'hallmark', 'polity', 'aversion', 'house', 'order', 'yard', 'incoming', 'trend']\n"
     ]
    }
   ],
   "source": [
    "nouns = list()\n",
    "for word, tag in dawn_txt_blob.tags:\n",
    "    if tag == 'NN':  \n",
    "        print(word)\n",
    "        if (word not in nouns):\n",
    "            nouns.append(word.lemmatize())                                                                      #Lemmatization\n",
    "print(nouns)"
   ]
  },
  {
   "cell_type": "code",
   "execution_count": 47,
   "metadata": {},
   "outputs": [
    {
     "name": "stdout",
     "output_type": "stream",
     "text": [
      "This text is about...\n",
      "secretary\n",
      "action\n",
      "audacity\n",
      "bench\n",
      "contempt\n"
     ]
    }
   ],
   "source": [
    "print (\"This text is about...\")                                                     \n",
    "for item in random.sample(nouns, 5):                                                                            #Summary of dawn article\n",
    "    print (item)                                                                                        "
   ]
  },
  {
   "cell_type": "code",
   "execution_count": 48,
   "metadata": {},
   "outputs": [],
   "source": [
    "from collections import Counter"
   ]
  },
  {
   "cell_type": "code",
   "execution_count": 49,
   "metadata": {},
   "outputs": [
    {
     "name": "stdout",
     "output_type": "stream",
     "text": [
      "Counter({'emergency': 1, 'room': 1, 'brim': 1, 'need': 1, 'attention': 1, 'floor': 1, 'breath': 1, 'line': 1, 'doctor': 1, 'duty': 1, 'hypochondriac': 1, 'runny': 1, 'nose': 1, 'sort': 1, 'action': 1, 'museum': 1, 'statue': 1, 'ire': 1, 'individual': 1, 'sculpture': 1, 'nothing': 1, 'culture': 1, '”': 1, 'rest': 1, 'petition': 1, 'court': 1, 'bench': 1, 'chief': 1, 'secretary': 1, 'director': 1, 'petitioner': 1, 'judge': 1, 's': 1, 'judiciary': 1, 'capital': 1, 'case': 1, 'load': 1, 'day': 1, 'pledge': 1, 'dam': 1, 'determination': 1, 'litigation': 1, 'flood': 1, 'frivolity': 1, 'task': 1, 'well': 1, 'consider': 1, 'month': 1, 'strike': 1, 'rotation': 1, 'demolishing': 1, 'front': 1, 'courtroom': 1, 'demolition': 1, 'audacity': 1, 'hostage': 1, 'week': 1, 'conduct': 1, '—': 1, 'fact': 1, 'drift': 1, 'justice': 1, 'zenith': 1, 'term': 1, 'fond': 1, 'surprise': 1, 'fear': 1, 'contempt': 1, 'fraternity': 1, 'way': 1, 'hospital': 1, 'response': 1, 'mobile': 1, 'phone': 1, 'desk': 1, 'display': 1, 'anger': 1, 'fury': 1, 'presentation': 1, 'news': 1, 'ticker': 1, 'afford': 1, 'cat': 1, 'magnitude': 1, 'district': 1, 'death': 1, 'lawyer': 1, 'country': 1, 'commodity': 1, 'resolution': 1, 'neglect': 1, 'service': 1, 'word': 1, 'fancy': 1, 'hallmark': 1, 'polity': 1, 'aversion': 1, 'house': 1, 'order': 1, 'yard': 1, 'incoming': 1, 'trend': 1})\n"
     ]
    }
   ],
   "source": [
    "counts = Counter(nouns)                                                                                         #Frequency of nouns*/*\n",
    "print(counts)"
   ]
  },
  {
   "cell_type": "code",
   "execution_count": 50,
   "metadata": {},
   "outputs": [
    {
     "name": "stdout",
     "output_type": "stream",
     "text": [
      "emergency\n",
      "room\n",
      "brim\n",
      "need\n",
      "attention\n"
     ]
    }
   ],
   "source": [
    "sorted_nouns = sorted(counts, key=counts.get, reverse=True)\n",
    "top_nouns = sorted_nouns[0:5]                                                                   #top 5\n",
    "for item in top_nouns:    \n",
    "    print (item)"
   ]
  },
  {
   "cell_type": "code",
   "execution_count": 51,
   "metadata": {},
   "outputs": [
    {
     "data": {
      "text/plain": [
       "[('emergency', 1), ('room', 1), ('brim', 1), ('need', 1), ('attention', 1)]"
      ]
     },
     "execution_count": 51,
     "metadata": {},
     "output_type": "execute_result"
    }
   ],
   "source": [
    "counts.most_common(5)                                                                           #words with most frequency"
   ]
  },
  {
   "cell_type": "code",
   "execution_count": 52,
   "metadata": {},
   "outputs": [],
   "source": [
    "from textblob import Word\n",
    "from textblob.wordnet import VERB"
   ]
  },
  {
   "cell_type": "code",
   "execution_count": null,
   "metadata": {},
   "outputs": [],
   "source": [
    "word = Word(\"course\")                                                                           #DO??\n",
    "word.synsets"
   ]
  },
  {
   "cell_type": "code",
   "execution_count": null,
   "metadata": {},
   "outputs": [],
   "source": [
    "Word(\"play\").get_synsets(pos=VERB)"
   ]
  }
 ],
 "metadata": {
  "interpreter": {
   "hash": "f2a9e98df6f3d79054ec5d4cccca964fd30c98ebb55f099f9054c8ef8a8b6712"
  },
  "kernelspec": {
   "display_name": "Python 3.9.2 64-bit",
   "language": "python",
   "name": "python3"
  },
  "language_info": {
   "codemirror_mode": {
    "name": "ipython",
    "version": 3
   },
   "file_extension": ".py",
   "mimetype": "text/x-python",
   "name": "python",
   "nbconvert_exporter": "python",
   "pygments_lexer": "ipython3",
   "version": "3.8.5"
  },
  "orig_nbformat": 4
 },
 "nbformat": 4,
 "nbformat_minor": 2
}
