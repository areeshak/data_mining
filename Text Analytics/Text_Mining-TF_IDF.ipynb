{
 "cells": [
  {
   "cell_type": "code",
   "execution_count": 1,
   "metadata": {},
   "outputs": [],
   "source": [
    "str1 = \"Karachi is one of the most congested city in the world.\"\n",
    "str2 = \"Karachi is the financial capital of Pakistan.\"\n",
    "str3 = \"Islamabad is the capital of Pakistan.\""
   ]
  },
  {
   "cell_type": "code",
   "execution_count": 2,
   "metadata": {},
   "outputs": [
    {
     "name": "stdout",
     "output_type": "stream",
     "text": [
      "['Karachi is one of the most congested city in the world.', 'Karachi is the financial capital of Pakistan.', 'Islamabad is the capital of Pakistan.']\n"
     ]
    }
   ],
   "source": [
    "strlist = [str1,str2,str3]\n",
    "print(strlist)"
   ]
  },
  {
   "cell_type": "code",
   "execution_count": 3,
   "metadata": {},
   "outputs": [
    {
     "name": "stdout",
     "output_type": "stream",
     "text": [
      "{'of', 'the', 'a', 'is', 'in'}\n"
     ]
    }
   ],
   "source": [
    "stopword = set(\"of the a is in\".split())\n",
    "print(stopword)"
   ]
  },
  {
   "cell_type": "code",
   "execution_count": null,
   "metadata": {},
   "outputs": [],
   "source": [
    "str1.split()"
   ]
  },
  {
   "cell_type": "code",
   "execution_count": 5,
   "metadata": {},
   "outputs": [
    {
     "name": "stdout",
     "output_type": "stream",
     "text": [
      "['Karachi one most congested city world.', 'Karachi financial capital Pakistan.', 'Islamabad capital Pakistan.']\n"
     ]
    }
   ],
   "source": [
    "s = []\n",
    "for str in strlist: \n",
    "    s_list = [word for word in str.split() if word not in stopword]\n",
    "    #print(s_list)\n",
    "    str_ = ' '.join(s_list)   \n",
    "    s.append(str_) \n",
    "print(s) "
   ]
  },
  {
   "cell_type": "code",
   "execution_count": 6,
   "metadata": {},
   "outputs": [],
   "source": [
    "from sklearn.metrics.pairwise import cosine_similarity\n",
    "from sklearn.feature_extraction.text import TfidfVectorizer"
   ]
  },
  {
   "cell_type": "code",
   "execution_count": 7,
   "metadata": {},
   "outputs": [
    {
     "name": "stdout",
     "output_type": "stream",
     "text": [
      "{'karachi': 5, 'one': 7, 'most': 6, 'congested': 2, 'city': 1, 'world': 9, 'financial': 3, 'capital': 0, 'pakistan': 8, 'islamabad': 4}\n"
     ]
    }
   ],
   "source": [
    "tfidf_vectorizer = TfidfVectorizer()                                                                    #Take 1/0 and compute its IDF and multiply each word wuth IDF --> IDF-DF\n",
    "tfidf_vectorizer.fit(s)\n",
    "print(tfidf_vectorizer.vocabulary_)"
   ]
  },
  {
   "cell_type": "code",
   "execution_count": 8,
   "metadata": {},
   "outputs": [
    {
     "name": "stdout",
     "output_type": "stream",
     "text": [
      "['capital', 'city', 'congested', 'financial', 'islamabad', 'karachi', 'most', 'one', 'pakistan', 'world']\n"
     ]
    }
   ],
   "source": [
    "print(tfidf_vectorizer.get_feature_names())"
   ]
  },
  {
   "cell_type": "code",
   "execution_count": 9,
   "metadata": {},
   "outputs": [
    {
     "name": "stdout",
     "output_type": "stream",
     "text": [
      "(3, 10)\n"
     ]
    }
   ],
   "source": [
    "vec2 = tfidf_vectorizer.transform(s).toarray()\n",
    "print(vec2.shape)"
   ]
  },
  {
   "cell_type": "code",
   "execution_count": 10,
   "metadata": {},
   "outputs": [
    {
     "name": "stdout",
     "output_type": "stream",
     "text": [
      "[[0.         0.42339448 0.42339448 0.         0.         0.32200242\n",
      "  0.42339448 0.42339448 0.         0.42339448]\n",
      " [0.45985353 0.         0.         0.60465213 0.         0.45985353\n",
      "  0.         0.         0.45985353 0.        ]\n",
      " [0.51785612 0.         0.         0.         0.68091856 0.\n",
      "  0.         0.         0.51785612 0.        ]]\n"
     ]
    }
   ],
   "source": [
    "print(vec2)"
   ]
  },
  {
   "cell_type": "code",
   "execution_count": 11,
   "metadata": {},
   "outputs": [
    {
     "name": "stdout",
     "output_type": "stream",
     "text": [
      "[[1.         0.14807395 0.        ]\n",
      " [0.14807395 1.         0.47627592]\n",
      " [0.         0.47627592 1.        ]]\n"
     ]
    }
   ],
   "source": [
    "cs1 = cosine_similarity(vec2)                                                                               #Values different but result/analsis same as BoW\n",
    "print(cs1)"
   ]
  },
  {
   "cell_type": "code",
   "execution_count": 13,
   "metadata": {},
   "outputs": [
    {
     "name": "stdout",
     "output_type": "stream",
     "text": [
      "Lahore second largest city Pakistan and an important financial center.\n"
     ]
    }
   ],
   "source": [
    "new_str = \"Lahore is the second largest city of Pakistan and an important financial center.\"\n",
    "\n",
    "n_list = [word for word in new_str.split() if word not in stopword]\n",
    "new_str = ' '.join(n_list)\n",
    "\n",
    "print(new_str)"
   ]
  },
  {
   "cell_type": "code",
   "execution_count": 18,
   "metadata": {},
   "outputs": [
    {
     "name": "stdout",
     "output_type": "stream",
     "text": [
      "  (0, 8)\t0.4736296010332684\n",
      "  (0, 3)\t0.6227660078332259\n",
      "  (0, 1)\t0.6227660078332259\n"
     ]
    }
   ],
   "source": [
    "response2 = tfidf_vectorizer.transform([new_str])\n",
    "print(response2)"
   ]
  },
  {
   "cell_type": "code",
   "execution_count": 19,
   "metadata": {},
   "outputs": [
    {
     "data": {
      "text/plain": [
       "array([[0.        , 0.62276601, 0.        , 0.62276601, 0.        ,\n",
       "        0.        , 0.        , 0.        , 0.4736296 , 0.        ]])"
      ]
     },
     "execution_count": 19,
     "metadata": {},
     "output_type": "execute_result"
    }
   ],
   "source": [
    "response2.toarray()"
   ]
  },
  {
   "cell_type": "code",
   "execution_count": 20,
   "metadata": {},
   "outputs": [
    {
     "name": "stdout",
     "output_type": "stream",
     "text": [
      "[[0.26367569 0.59435704 0.24527199]]\n"
     ]
    }
   ],
   "source": [
    "answer2 = cosine_similarity(response2,vec2)\n",
    "print(answer2)"
   ]
  },
  {
   "cell_type": "code",
   "execution_count": 22,
   "metadata": {},
   "outputs": [
    {
     "name": "stdout",
     "output_type": "stream",
     "text": [
      "the maximum is  0.5943570354323497\n",
      "1 Karachi is the financial capital of Pakistan.\n"
     ]
    }
   ],
   "source": [
    "import numpy as np\n",
    "ans2 = answer2[0]\n",
    "print(\"the maximum is \", max(ans2))                                                                              #same result as BoW\n",
    "\n",
    "b = np.argmax(ans2)\n",
    "print(b, strlist[b]) "
   ]
  }
 ],
 "metadata": {
  "interpreter": {
   "hash": "b3ba2566441a7c06988d0923437866b63cedc61552a5af99d1f4fb67d367b25f"
  },
  "kernelspec": {
   "display_name": "Python 3.8.5 64-bit ('base': conda)",
   "language": "python",
   "name": "python3"
  },
  "language_info": {
   "codemirror_mode": {
    "name": "ipython",
    "version": 3
   },
   "file_extension": ".py",
   "mimetype": "text/x-python",
   "name": "python",
   "nbconvert_exporter": "python",
   "pygments_lexer": "ipython3",
   "version": "3.8.5"
  },
  "orig_nbformat": 4
 },
 "nbformat": 4,
 "nbformat_minor": 2
}
