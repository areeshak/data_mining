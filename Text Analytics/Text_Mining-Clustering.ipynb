{
 "cells": [
  {
   "cell_type": "markdown",
   "metadata": {},
   "source": [
    "## Clustering"
   ]
  },
  {
   "cell_type": "code",
   "execution_count": 4,
   "metadata": {},
   "outputs": [
    {
     "data": {
      "text/plain": [
       "['Pakistan will address actionable evidence if shared by Delhi, PM Khan tells India after Pulwama attack\\n',\n",
       " 'Roadmap for $21bn Saudi investment finalised\\n',\n",
       " 'Pakistani nationals ordered to leave Indian city in 48 hours: TOI report\\n',\n",
       " 'PM Imran offers India probe into Kashmir suicide attack\\n',\n",
       " 'Riyadh to invest $21b over next five years\\n',\n",
       " 'Pakistanis visiting India given 48-hours to leave the country\\n',\n",
       " '“If India attacks, we will not think and retaliate back”: PM Imran\\n',\n",
       " 'Pakistan hails record Saudi investment as Crown Prince departs after first state visit\\n',\n",
       " 'Pakistan nationals told to leave Indian city within 48 hours\\n',\n",
       " 'Pakistan PM Imran Khan promises action if India shows Pulwama proof, warns against any rash move \\n',\n",
       " 'Saudi Arabia to invest 21 bln dollars in Pakistan in three phases\\n',\n",
       " \"Leave Within 48 Hours, Pak Nationals Told In Order In Rajasthan's Bikaner\"]"
      ]
     },
     "execution_count": 4,
     "metadata": {},
     "output_type": "execute_result"
    }
   ],
   "source": [
    "with open(r'C:\\Users\\Aresha Kashif\\Downloads\\headlines.txt',encoding=\"utf8\") as f:\n",
    "    document = f.readlines()                                                                                                #Headlies\n",
    "f.close()\n",
    "document"
   ]
  },
  {
   "cell_type": "code",
   "execution_count": 6,
   "metadata": {},
   "outputs": [],
   "source": [
    "from sklearn.metrics.pairwise import cosine_similarity\n",
    "from sklearn.feature_extraction.text import CountVectorizer "
   ]
  },
  {
   "cell_type": "code",
   "execution_count": 7,
   "metadata": {},
   "outputs": [
    {
     "data": {
      "text/plain": [
       "array([[0, 0, 0, ..., 1, 0, 0],\n",
       "       [0, 0, 1, ..., 0, 0, 0],\n",
       "       [0, 0, 0, ..., 0, 0, 0],\n",
       "       ...,\n",
       "       [0, 0, 0, ..., 0, 0, 0],\n",
       "       [1, 0, 0, ..., 0, 0, 0],\n",
       "       [0, 0, 0, ..., 0, 1, 0]], dtype=int64)"
      ]
     },
     "execution_count": 7,
     "metadata": {},
     "output_type": "execute_result"
    }
   ],
   "source": [
    "cnt_vectorizer = CountVectorizer() \n",
    "features = cnt_vectorizer.fit_transform(document)\n",
    "features_nd = features.toarray()\n",
    "features_nd                                                                                                        #presence of words"
   ]
  },
  {
   "cell_type": "code",
   "execution_count": 8,
   "metadata": {},
   "outputs": [
    {
     "data": {
      "text/plain": [
       "(12, 89)"
      ]
     },
     "execution_count": 8,
     "metadata": {},
     "output_type": "execute_result"
    }
   ],
   "source": [
    "features_nd.shape                                                                                                   #89 unique words"
   ]
  },
  {
   "cell_type": "code",
   "execution_count": 9,
   "metadata": {},
   "outputs": [],
   "source": [
    "from sklearn.cluster import KMeans"
   ]
  },
  {
   "cell_type": "code",
   "execution_count": 10,
   "metadata": {},
   "outputs": [
    {
     "name": "stdout",
     "output_type": "stream",
     "text": [
      "[2 0 1 2 0 1 2 0 1 2 0 1]\n"
     ]
    }
   ],
   "source": [
    "km = KMeans(n_clusters =3)                                                                          #k-means with k = 3\n",
    "km.fit(features_nd)\n",
    "new_labels = km.labels_\n",
    "print(new_labels)                                                                                   #1st, 4th,7th news in one cluster (1) & 2nd, 5th, 8th, 10th news part of one cluster (2)"
   ]
  },
  {
   "cell_type": "code",
   "execution_count": 12,
   "metadata": {},
   "outputs": [],
   "source": [
    "from sklearn.cluster import AgglomerativeClustering"
   ]
  },
  {
   "cell_type": "code",
   "execution_count": 16,
   "metadata": {},
   "outputs": [
    {
     "data": {
      "text/plain": [
       "array([1, 0, 0, 1, 0, 0, 1, 2, 0, 1, 0, 0], dtype=int64)"
      ]
     },
     "execution_count": 16,
     "metadata": {},
     "output_type": "execute_result"
    }
   ],
   "source": [
    "cluster = AgglomerativeClustering(n_clusters=3, affinity='euclidean', linkage='complete')             #Agglomerative clsutering // distance = euclidean // linkage{‘ward’, ‘complete’, ‘average’, ‘single’}\n",
    "cluster.fit_predict(features_nd)                                                                      #check parameter"
   ]
  }
 ],
 "metadata": {
  "interpreter": {
   "hash": "b3ba2566441a7c06988d0923437866b63cedc61552a5af99d1f4fb67d367b25f"
  },
  "kernelspec": {
   "display_name": "Python 3.8.5 64-bit ('base': conda)",
   "language": "python",
   "name": "python3"
  },
  "language_info": {
   "codemirror_mode": {
    "name": "ipython",
    "version": 3
   },
   "file_extension": ".py",
   "mimetype": "text/x-python",
   "name": "python",
   "nbconvert_exporter": "python",
   "pygments_lexer": "ipython3",
   "version": "3.8.5"
  },
  "orig_nbformat": 4
 },
 "nbformat": 4,
 "nbformat_minor": 2
}
